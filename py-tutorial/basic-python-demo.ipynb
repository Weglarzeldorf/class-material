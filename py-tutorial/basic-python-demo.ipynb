{
 "cells": [
  {
   "cell_type": "code",
   "execution_count": 18,
   "metadata": {},
   "outputs": [
    {
     "data": {
      "text/plain": [
       "' This is also a \\n    multiline comment '"
      ]
     },
     "execution_count": 18,
     "metadata": {},
     "output_type": "execute_result"
    }
   ],
   "source": [
    "# This is comment\n",
    "\n",
    "x = 4 # Comments can be placed anywhere in a line\n",
    "\n",
    "''' This is a\n",
    "    multiline comment '''\n",
    "\n",
    "\"\"\" This is also a \n",
    "    multiline comment \"\"\""
   ]
  },
  {
   "cell_type": "markdown",
   "metadata": {},
   "source": [
    "# Datatypes\n",
    "\n",
    "## Integers, Floats, and Complex Numbers"
   ]
  },
  {
   "cell_type": "code",
   "execution_count": 1,
   "metadata": {},
   "outputs": [
    {
     "name": "stdout",
     "output_type": "stream",
     "text": [
      "9\n",
      "-1\n",
      "60\n",
      "3\n",
      "16\n",
      "13.333\n",
      "1.6666666666666667\n",
      "(5+1j)\n",
      "(40+8j)\n"
     ]
    }
   ],
   "source": [
    "print(5 + 4) \n",
    "print(7 - 8)\n",
    "print(10 * 6)\n",
    "print(10 % 7)\n",
    "print(4**2)\n",
    "\n",
    "print(10 + 3.333)\n",
    "print(10 / 6)\n",
    "print(5 + 1j) \n",
    "print(8 * (5 + 1j))"
   ]
  },
  {
   "cell_type": "markdown",
   "metadata": {},
   "source": [
    "## Booleans"
   ]
  },
  {
   "cell_type": "code",
   "execution_count": 20,
   "metadata": {},
   "outputs": [
    {
     "name": "stdout",
     "output_type": "stream",
     "text": [
      "True\n",
      "False\n",
      "True\n",
      "False\n"
     ]
    }
   ],
   "source": [
    "print(True)\n",
    "print(True and False)\n",
    "print(True or False)\n",
    "print(not True)"
   ]
  },
  {
   "cell_type": "markdown",
   "metadata": {},
   "source": [
    "## Strings"
   ]
  },
  {
   "cell_type": "code",
   "execution_count": 21,
   "metadata": {
    "scrolled": false
   },
   "outputs": [
    {
     "name": "stdout",
     "output_type": "stream",
     "text": [
      "abc\n",
      "abc\n",
      "a \"quoted\" stringanother \"quoted string\" can't\n",
      "abca\n"
     ]
    }
   ],
   "source": [
    "print('abc')\n",
    "print(\"abc\")\n",
    "print('a \"quoted\" string' + \"another \\\"quoted string\\\" \" + \"can't\")\n",
    "print('abc' + 'a')"
   ]
  },
  {
   "cell_type": "markdown",
   "metadata": {},
   "source": [
    "# Variables"
   ]
  },
  {
   "cell_type": "code",
   "execution_count": 22,
   "metadata": {},
   "outputs": [
    {
     "name": "stdout",
     "output_type": "stream",
     "text": [
      "17\n",
      "29\n",
      "32.2\n",
      "grape32.2\n"
     ]
    }
   ],
   "source": [
    "x = 17\n",
    "print(x)\n",
    "\n",
    "x = x + 12\n",
    "print(x)\n",
    "\n",
    "y = x + 3.2\n",
    "print(y)\n",
    "\n",
    "z = 'grape'\n",
    "z = z + str(y)\n",
    "print(z)"
   ]
  },
  {
   "cell_type": "markdown",
   "metadata": {},
   "source": [
    "# Typecasting"
   ]
  },
  {
   "cell_type": "code",
   "execution_count": 23,
   "metadata": {},
   "outputs": [
    {
     "name": "stdout",
     "output_type": "stream",
     "text": [
      "5\n",
      "7.0\n",
      "7\n",
      "3.2\n"
     ]
    }
   ],
   "source": [
    "print(str(5))\n",
    "print(float(7))\n",
    "print(int(7.3))\n",
    "print(float(\"3.2\"))"
   ]
  },
  {
   "cell_type": "markdown",
   "metadata": {},
   "source": [
    "# Print statements"
   ]
  },
  {
   "cell_type": "code",
   "execution_count": 24,
   "metadata": {},
   "outputs": [
    {
     "name": "stdout",
     "output_type": "stream",
     "text": [
      "bob\n",
      "bob5.333\n",
      "bob 5.333\n",
      "5.333\n",
      "bob\n",
      "bob is 5 years old.\n",
      "\n",
      "Name:\tAge:\n",
      "bob\t5.3\n",
      "\n",
      "Name:\tAge:\n",
      "bob\t5.3\n",
      "\n"
     ]
    }
   ],
   "source": [
    "five = 5.333\n",
    "name = \"bob\"\n",
    "print(name)\n",
    "print(name + str(five))\n",
    "print(name, five)\n",
    "print(\"{}\".format(five))\n",
    "print(\"{}\".format(name))\n",
    "print(\"{} is {:.0f} years old.\\n\".format(name, five))\n",
    "print(\"Name:\\tAge:\\n{}\\t{:.1f}\\n\".format(name, five))\n",
    "\n",
    "# C-style print strings work as well\n",
    "print(\"Name:\\tAge:\\n%s\\t%.1f\\n\" % (name, five))\n"
   ]
  },
  {
   "cell_type": "markdown",
   "metadata": {},
   "source": [
    "# Lists\n",
    "\n",
    "## Creating a list."
   ]
  },
  {
   "cell_type": "code",
   "execution_count": 25,
   "metadata": {
    "collapsed": true
   },
   "outputs": [],
   "source": [
    "a = [1, 2, 3, 4]\n",
    "b = ['hello', 1, 2.5]\n",
    "c = [[1, 2, 3],\n",
    "     [4, 5, 6]]\n"
   ]
  },
  {
   "cell_type": "markdown",
   "metadata": {},
   "source": [
    "# Accessing a list."
   ]
  },
  {
   "cell_type": "code",
   "execution_count": 26,
   "metadata": {},
   "outputs": [
    {
     "name": "stdout",
     "output_type": "stream",
     "text": [
      "1\n",
      "4\n",
      "[1, 2, 3]\n",
      "3\n"
     ]
    }
   ],
   "source": [
    "print(a[0])\n",
    "print(a[-1])  # last element\n",
    "print(c[0])\n",
    "print(c[0][2])"
   ]
  },
  {
   "cell_type": "markdown",
   "metadata": {},
   "source": [
    "Lists are indexed starting from 0"
   ]
  },
  {
   "cell_type": "code",
   "execution_count": 27,
   "metadata": {},
   "outputs": [
    {
     "ename": "IndexError",
     "evalue": "list index out of range",
     "output_type": "error",
     "traceback": [
      "\u001b[0;31m---------------------------------------------------------------------------\u001b[0m",
      "\u001b[0;31mIndexError\u001b[0m                                Traceback (most recent call last)",
      "\u001b[0;32m<ipython-input-27-03d3d662e997>\u001b[0m in \u001b[0;36m<module>\u001b[0;34m()\u001b[0m\n\u001b[0;32m----> 1\u001b[0;31m \u001b[0mprint\u001b[0m\u001b[0;34m(\u001b[0m\u001b[0ma\u001b[0m\u001b[0;34m[\u001b[0m\u001b[0;36m4\u001b[0m\u001b[0;34m]\u001b[0m\u001b[0;34m)\u001b[0m  \u001b[0;31m# out of range\u001b[0m\u001b[0;34m\u001b[0m\u001b[0m\n\u001b[0m",
      "\u001b[0;31mIndexError\u001b[0m: list index out of range"
     ]
    }
   ],
   "source": [
    "print(a[4])  # out of range"
   ]
  },
  {
   "cell_type": "markdown",
   "metadata": {},
   "source": [
    "## List slicing\n",
    "\n",
    "Accessing a subportion of a list."
   ]
  },
  {
   "cell_type": "code",
   "execution_count": 28,
   "metadata": {},
   "outputs": [
    {
     "name": "stdout",
     "output_type": "stream",
     "text": [
      "[2, 3]\n",
      "[2, 3, 4]\n",
      "[1, 2]\n"
     ]
    }
   ],
   "source": [
    "print(a[1:3])\n",
    "print(a[1:])\n",
    "print(a[:2])"
   ]
  },
  {
   "cell_type": "markdown",
   "metadata": {},
   "source": [
    "## Modifying a List"
   ]
  },
  {
   "cell_type": "code",
   "execution_count": null,
   "metadata": {
    "collapsed": true
   },
   "outputs": [],
   "source": [
    "a.append(6)  # adds to the end\n",
    "print(a)\n",
    "a[4] = 5  # sets item at position 4\n",
    "print(a)\n",
    "a.remove(3)  # removes the first 3 in the list\n",
    "print(a)\n",
    "del a[2]  # removes the item at position 2\n",
    "print(a)\n"
   ]
  },
  {
   "cell_type": "markdown",
   "metadata": {},
   "source": [
    "## Other List Functions"
   ]
  },
  {
   "cell_type": "code",
   "execution_count": null,
   "metadata": {
    "collapsed": true
   },
   "outputs": [],
   "source": [
    "print(a)\n",
    "print(len(a))\n",
    "print(a.index(1))  # the index of the first 3\n",
    "print(a.count(5))\n",
    "a.reverse()  # these are in-place operations\n",
    "print(a)\n",
    "a.sort()\n",
    "print(a)"
   ]
  },
  {
   "cell_type": "code",
   "execution_count": 29,
   "metadata": {},
   "outputs": [
    {
     "name": "stdout",
     "output_type": "stream",
     "text": [
      "[0, 1, 6, 3, 4]\n",
      "[0, 1, 6, 3, 4]\n",
      "[0, 1, 6, 3, 4]\n",
      "[0, 1, 6, 3, 7]\n"
     ]
    }
   ],
   "source": [
    "# Data is not necessarily copied\n",
    "\n",
    "a = [0, 1, 2, 3, 4]\n",
    "b = a\n",
    "b[2] = 6\n",
    "\n",
    "print(a)\n",
    "print(b)\n",
    "\n",
    "c = a.copy()\n",
    "c[4] = 7\n",
    "\n",
    "print(a)\n",
    "print(c)"
   ]
  },
  {
   "cell_type": "markdown",
   "metadata": {},
   "source": [
    "# Tuples"
   ]
  },
  {
   "cell_type": "code",
   "execution_count": 32,
   "metadata": {},
   "outputs": [
    {
     "name": "stdout",
     "output_type": "stream",
     "text": [
      "3\n",
      "diameter\n",
      "9\n"
     ]
    }
   ],
   "source": [
    "a = (1, 2, 3)\n",
    "b = (['hi', 3], 5, 7)\n",
    "print(a[2])\n",
    "x, y = ('diameter', 4 + 5)\n",
    "print(x)\n",
    "print(y)"
   ]
  },
  {
   "cell_type": "markdown",
   "metadata": {},
   "source": [
    "Tuples are not mutable"
   ]
  },
  {
   "cell_type": "code",
   "execution_count": 31,
   "metadata": {
    "scrolled": true
   },
   "outputs": [
    {
     "ename": "TypeError",
     "evalue": "'tuple' object does not support item assignment",
     "output_type": "error",
     "traceback": [
      "\u001b[0;31m---------------------------------------------------------------------------\u001b[0m",
      "\u001b[0;31mTypeError\u001b[0m                                 Traceback (most recent call last)",
      "\u001b[0;32m<ipython-input-31-cb906d92fd71>\u001b[0m in \u001b[0;36m<module>\u001b[0;34m()\u001b[0m\n\u001b[0;32m----> 1\u001b[0;31m \u001b[0ma\u001b[0m\u001b[0;34m[\u001b[0m\u001b[0;36m2\u001b[0m\u001b[0;34m]\u001b[0m \u001b[0;34m=\u001b[0m \u001b[0;36m5\u001b[0m  \u001b[0;31m# error: cannot change a tuple\u001b[0m\u001b[0;34m\u001b[0m\u001b[0m\n\u001b[0m",
      "\u001b[0;31mTypeError\u001b[0m: 'tuple' object does not support item assignment"
     ]
    }
   ],
   "source": [
    "a[2] = 5  # error: cannot change a tuple"
   ]
  },
  {
   "cell_type": "markdown",
   "metadata": {},
   "source": [
    "# Conditional statements"
   ]
  },
  {
   "cell_type": "code",
   "execution_count": 33,
   "metadata": {},
   "outputs": [
    {
     "name": "stdout",
     "output_type": "stream",
     "text": [
      "True\n",
      "Also True\n",
      "Not in conditional\n"
     ]
    }
   ],
   "source": [
    "if True:\n",
    "    print('True')\n",
    "    print('Also True')\n",
    "    \n",
    "if False:\n",
    "    print('False')\n",
    "    \n",
    "if True and False:\n",
    "    print('False')\n",
    "    print('Also False')\n",
    "    \n",
    "    \n",
    "    \n",
    "    print('Still False down here')\n",
    "print('Not in conditional')"
   ]
  },
  {
   "cell_type": "markdown",
   "metadata": {},
   "source": [
    "Python uses indentation for determining what is\n",
    "inside conditionals, loops, etc.\n",
    "So, be careful with whitespace."
   ]
  },
  {
   "cell_type": "code",
   "execution_count": 34,
   "metadata": {},
   "outputs": [
    {
     "ename": "IndentationError",
     "evalue": "unexpected indent (<ipython-input-34-b49440c67915>, line 5)",
     "output_type": "error",
     "traceback": [
      "\u001b[0;36m  File \u001b[0;32m\"<ipython-input-34-b49440c67915>\"\u001b[0;36m, line \u001b[0;32m5\u001b[0m\n\u001b[0;31m    print('Tabbing is wrong')\u001b[0m\n\u001b[0m    ^\u001b[0m\n\u001b[0;31mIndentationError\u001b[0m\u001b[0;31m:\u001b[0m unexpected indent\n"
     ]
    }
   ],
   "source": [
    "if True:\n",
    "  print('True')\n",
    "    print('Tabbing is wrong')"
   ]
  },
  {
   "cell_type": "markdown",
   "metadata": {},
   "source": [
    "## Multi-way decisions"
   ]
  },
  {
   "cell_type": "code",
   "execution_count": null,
   "metadata": {
    "collapsed": true
   },
   "outputs": [],
   "source": [
    "if 5 > 4:\n",
    "    print('This will be printed')\n",
    "else:\n",
    "    print('This will not be printed')\n",
    "    \n",
    "if 5 > 8:\n",
    "    print('Not printed')\n",
    "elif 9 > 8:\n",
    "    print('Print this')\n",
    "else:\n",
    "    print('Not this')"
   ]
  },
  {
   "cell_type": "markdown",
   "metadata": {},
   "source": [
    "## Nested conditions"
   ]
  },
  {
   "cell_type": "code",
   "execution_count": null,
   "metadata": {
    "collapsed": true
   },
   "outputs": [],
   "source": [
    "if 'abc' == 'def':\n",
    "    if 5 > 4 and 5 >= 5:\n",
    "        print('Not here')\n",
    "    else:\n",
    "        print('Definitely not here')\n",
    "else:\n",
    "    if not True:\n",
    "        print('False')\n",
    "    elif 6 != 6:\n",
    "        print('False')\n",
    "    else:\n",
    "        print('Print this')    "
   ]
  },
  {
   "cell_type": "markdown",
   "metadata": {},
   "source": [
    "# For loops"
   ]
  },
  {
   "cell_type": "code",
   "execution_count": 35,
   "metadata": {},
   "outputs": [
    {
     "name": "stdout",
     "output_type": "stream",
     "text": [
      "Hello from Alice\n",
      "Hello from Bob\n",
      "Hello from Claire\n",
      "\n",
      "\n",
      "\n",
      "I want some Chocolate ice cream\n",
      "We have looped 1 times\n",
      "I want some Vanilla ice cream\n",
      "We have looped 2 times\n",
      "I want some Strawberry ice cream\n",
      "We have looped 3 times\n"
     ]
    }
   ],
   "source": [
    "for name in ['Alice', 'Bob', 'Claire']:\n",
    "    print('Hello from {}'.format(name))\n",
    "    \n",
    "\n",
    "print('\\n\\n')\n",
    "\n",
    "loop_num = 0\n",
    "ice_creams = ('Chocolate', 'Vanilla', 'Strawberry')\n",
    "for flavor in ice_creams:\n",
    "    print('I want some {} ice cream'.format(flavor))\n",
    "    \n",
    "    loop_num += 1\n",
    "    print('We have looped {} times'.format(loop_num))"
   ]
  },
  {
   "cell_type": "markdown",
   "metadata": {},
   "source": [
    "# Range Function"
   ]
  },
  {
   "cell_type": "code",
   "execution_count": null,
   "metadata": {},
   "outputs": [],
   "source": [
    "print(range(3))\n",
    "print(range(2, 5))\n",
    "print(range(0, 20, 2))"
   ]
  },
  {
   "cell_type": "code",
   "execution_count": 36,
   "metadata": {},
   "outputs": [
    {
     "name": "stdout",
     "output_type": "stream",
     "text": [
      "0\n",
      "4\n"
     ]
    },
    {
     "ename": "AttributeError",
     "evalue": "'range' object has no attribute 'append'",
     "output_type": "error",
     "traceback": [
      "\u001b[0;31m---------------------------------------------------------------------------\u001b[0m",
      "\u001b[0;31mAttributeError\u001b[0m                            Traceback (most recent call last)",
      "\u001b[0;32m<ipython-input-36-71c9b5156d12>\u001b[0m in \u001b[0;36m<module>\u001b[0;34m()\u001b[0m\n\u001b[1;32m      2\u001b[0m \u001b[0mprint\u001b[0m\u001b[0;34m(\u001b[0m\u001b[0ma\u001b[0m\u001b[0;34m[\u001b[0m\u001b[0;36m0\u001b[0m\u001b[0;34m]\u001b[0m\u001b[0;34m)\u001b[0m\u001b[0;34m\u001b[0m\u001b[0m\n\u001b[1;32m      3\u001b[0m \u001b[0mprint\u001b[0m\u001b[0;34m(\u001b[0m\u001b[0ma\u001b[0m\u001b[0;34m[\u001b[0m\u001b[0;34m-\u001b[0m\u001b[0;36m1\u001b[0m\u001b[0;34m]\u001b[0m\u001b[0;34m)\u001b[0m\u001b[0;34m\u001b[0m\u001b[0m\n\u001b[0;32m----> 4\u001b[0;31m \u001b[0ma\u001b[0m\u001b[0;34m.\u001b[0m\u001b[0mappend\u001b[0m\u001b[0;34m(\u001b[0m\u001b[0;36m5\u001b[0m\u001b[0;34m)\u001b[0m  \u001b[0;31m# error: range returns a generator, not a list\u001b[0m\u001b[0;34m\u001b[0m\u001b[0m\n\u001b[0m",
      "\u001b[0;31mAttributeError\u001b[0m: 'range' object has no attribute 'append'"
     ]
    }
   ],
   "source": [
    "a = range(5)\n",
    "print(a[0])\n",
    "print(a[-1])\n",
    "a.append(5)  # error: range returns a generator, not a list"
   ]
  },
  {
   "cell_type": "markdown",
   "metadata": {},
   "source": [
    "# Range and lists"
   ]
  },
  {
   "cell_type": "code",
   "execution_count": null,
   "metadata": {
    "collapsed": true
   },
   "outputs": [],
   "source": [
    "for i in range(3):\n",
    "    print(i)\n",
    "\n",
    "print('\\n\\n')\n",
    "\n",
    "# Get the product of numbers one through ten\n",
    "product = 1\n",
    "for i in range(1, 11):\n",
    "    product *= i\n",
    "print(product)"
   ]
  },
  {
   "cell_type": "markdown",
   "metadata": {},
   "source": [
    "# Nesting"
   ]
  },
  {
   "cell_type": "code",
   "execution_count": null,
   "metadata": {
    "collapsed": true
   },
   "outputs": [],
   "source": [
    "for i in range(3):\n",
    "    for j in range(2):\n",
    "        print('({}, {})'.format(i, j))"
   ]
  },
  {
   "cell_type": "markdown",
   "metadata": {},
   "source": [
    "# While loops"
   ]
  },
  {
   "cell_type": "code",
   "execution_count": 37,
   "metadata": {},
   "outputs": [
    {
     "name": "stdout",
     "output_type": "stream",
     "text": [
      "looping\n",
      "looping\n",
      "looping\n",
      "looping\n",
      "looping\n",
      "5\n"
     ]
    }
   ],
   "source": [
    "val = 0\n",
    "while val < 5:\n",
    "    print('looping')\n",
    "    val += 1\n",
    "print(val)"
   ]
  },
  {
   "cell_type": "markdown",
   "metadata": {},
   "source": [
    "## Iterating until a convergence tolerance is met"
   ]
  },
  {
   "cell_type": "code",
   "execution_count": 38,
   "metadata": {},
   "outputs": [
    {
     "name": "stdout",
     "output_type": "stream",
     "text": [
      "1.0\n",
      "1.5\n",
      "1.75\n",
      "1.875\n",
      "1.9375\n",
      "1.96875\n",
      "1.984375\n",
      "1.9921875\n",
      "1.99609375\n",
      "1.998046875\n",
      "1.9990234375\n",
      "1.99951171875\n",
      "1.999755859375\n",
      "1.9998779296875\n",
      "1.99993896484375\n",
      "1.999969482421875\n",
      "1.9999847412109375\n",
      "1.9999923706054688\n",
      "Converged in 18 iterations\n"
     ]
    }
   ],
   "source": [
    "n = 0\n",
    "sol = 2.\n",
    "tol = 1e-5\n",
    "curr = 0\n",
    "while abs(sol - curr) > tol:\n",
    "    curr += 0.5**n\n",
    "    print(curr)\n",
    "    n += 1\n",
    "    \n",
    "print('Converged in {} iterations'.format(n))"
   ]
  },
  {
   "cell_type": "markdown",
   "metadata": {},
   "source": [
    "# Functions"
   ]
  },
  {
   "cell_type": "code",
   "execution_count": 39,
   "metadata": {},
   "outputs": [
    {
     "name": "stdout",
     "output_type": "stream",
     "text": [
      "Hello Alice! Welcome to CS 357!\n"
     ]
    }
   ],
   "source": [
    "def greet(name):\n",
    "    print('Hello {}! Welcome to CS 357!'.format(name))\n",
    "    \n",
    "greet('Alice')"
   ]
  },
  {
   "cell_type": "code",
   "execution_count": 40,
   "metadata": {},
   "outputs": [
    {
     "name": "stdout",
     "output_type": "stream",
     "text": [
      "It is None degrees Fahrenheit outside.\n",
      "I happen to know that is None degrees Celsius.\n"
     ]
    }
   ],
   "source": [
    "def convert(deg, celsius=True):\n",
    "    if celsius:\n",
    "        temp = (9 / 5.) * deg + 32\n",
    "    else:\n",
    "        temp = (5 / 9.) * (deg - 32)\n",
    "    \n",
    "print('It is {} degrees Fahrenheit outside.'.format(convert(0)))\n",
    "print('I happen to know that is {} degrees Celsius.'.format(convert(32, False)))"
   ]
  },
  {
   "cell_type": "markdown",
   "metadata": {},
   "source": [
    "What went wrong?  We forgot to return the value we wanted from the function"
   ]
  },
  {
   "cell_type": "code",
   "execution_count": null,
   "metadata": {
    "collapsed": true
   },
   "outputs": [],
   "source": [
    "def convert(deg, celsius=True):\n",
    "    if celsius:\n",
    "        temp = (9 / 5.) * deg + 32\n",
    "    else:\n",
    "        temp = (5 / 9.) * (deg - 32)\n",
    "    \n",
    "    return temp\n",
    "\n",
    "    \n",
    "print('It is {} degrees Fahrenheit outside.'.format(convert(0)))\n",
    "print('I happen to know that is {} degrees Celsius.'.format(convert(32, False)))"
   ]
  },
  {
   "cell_type": "markdown",
   "metadata": {},
   "source": [
    "# Math library"
   ]
  },
  {
   "cell_type": "code",
   "execution_count": 41,
   "metadata": {},
   "outputs": [
    {
     "name": "stdout",
     "output_type": "stream",
     "text": [
      "-2.4492935982947064e-16\n",
      "1.0\n"
     ]
    }
   ],
   "source": [
    "import math\n",
    "print(math.sin(2*math.pi))\n",
    "print(math.log(math.e))\n"
   ]
  },
  {
   "cell_type": "code",
   "execution_count": 42,
   "metadata": {},
   "outputs": [
    {
     "name": "stdout",
     "output_type": "stream",
     "text": [
      "Help on built-in function log in module math:\n",
      "\n",
      "log(...)\n",
      "    log(x[, base])\n",
      "    \n",
      "    Return the logarithm of x to the given base.\n",
      "    If the base not specified, returns the natural logarithm (base e) of x.\n",
      "\n"
     ]
    }
   ],
   "source": [
    "help(math.log)"
   ]
  },
  {
   "cell_type": "code",
   "execution_count": null,
   "metadata": {
    "collapsed": true
   },
   "outputs": [],
   "source": []
  }
 ],
 "metadata": {
  "kernelspec": {
   "display_name": "Python 3",
   "language": "python",
   "name": "python3"
  },
  "language_info": {
   "codemirror_mode": {
    "name": "ipython",
    "version": 3
   },
   "file_extension": ".py",
   "mimetype": "text/x-python",
   "name": "python",
   "nbconvert_exporter": "python",
   "pygments_lexer": "ipython3",
   "version": "3.7.5"
  }
 },
 "nbformat": 4,
 "nbformat_minor": 1
}
